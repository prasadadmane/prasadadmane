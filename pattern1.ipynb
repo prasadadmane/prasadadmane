for x in range(5):
    for j in range(-5,-x):
        print(" ",end=" ")
    for o in range(x+1):
        print("-", end=" ")
    print(" ")